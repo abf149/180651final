{
 "cells": [
  {
   "cell_type": "markdown",
   "id": "9ccffa5a",
   "metadata": {},
   "source": [
    "# 18.065 project: comparison result"
   ]
  },
  {
   "cell_type": "code",
   "execution_count": 1,
   "id": "a58361c7",
   "metadata": {},
   "outputs": [],
   "source": [
    "#import sys\n",
    "#!{sys.executable} -m pip install tf-nightly"
   ]
  },
  {
   "cell_type": "code",
   "execution_count": 2,
   "id": "a707cb00",
   "metadata": {},
   "outputs": [],
   "source": [
    "from sklearn_wrappers import *"
   ]
  },
  {
   "cell_type": "code",
   "execution_count": 16,
   "id": "df5a3bd3",
   "metadata": {},
   "outputs": [],
   "source": [
    "# Autoencoder imports\n",
    "from sklearn.datasets import load_iris\n",
    "from sklearn.preprocessing import MinMaxScaler\n",
    "from  sklearn.model_selection import train_test_split\n",
    "import tensorflow as tf\n",
    "from matplotlib import pyplot as plt\n",
    "%matplotlib inline"
   ]
  },
  {
   "cell_type": "code",
   "execution_count": 4,
   "id": "f1ca05da",
   "metadata": {},
   "outputs": [],
   "source": [
    "# Kernel PCA imports\n",
    "import numpy as np\n",
    "import os\n",
    "import sys\n",
    "import sklearn\n",
    "import matplotlib as mpl\n",
    "import matplotlib.pyplot as plt\n",
    "from sklearn.decomposition import PCA, KernelPCA, SparsePCA\n",
    "from sklearn.datasets import make_swiss_roll\n",
    "from sklearn.metrics import mean_squared_error\n",
    "import math"
   ]
  },
  {
   "cell_type": "code",
   "execution_count": 5,
   "id": "8b8cb6f4",
   "metadata": {},
   "outputs": [],
   "source": [
    "# NMF imports\n",
    "import numpy as np\n",
    "from sklearn.decomposition import NMF\n",
    "from sklearn.datasets import load_iris\n",
    "import matplotlib.pyplot as plt"
   ]
  },
  {
   "cell_type": "code",
   "execution_count": 6,
   "id": "267148c5",
   "metadata": {},
   "outputs": [
    {
     "name": "stderr",
     "output_type": "stream",
     "text": [
      "/var/folders/_1/ph90y1r548z0kmxwq40w_3y80000gn/T/ipykernel_6685/2071146880.py:12: MatplotlibDeprecationWarning: The seaborn styles shipped by Matplotlib are deprecated since 3.6, as they no longer correspond to the styles shipped by seaborn. However, they will remain available as 'seaborn-v0_8-<style>'. Alternatively, directly use the seaborn API instead.\n",
      "  plt.style.use('seaborn-white')\n"
     ]
    }
   ],
   "source": [
    "# more readable visuals \n",
    "large = 22; med = 16; small = 10\n",
    "params = {'axes.titlesize': large,\n",
    "          'legend.fontsize': med,\n",
    "          'figure.figsize': (16, 10),\n",
    "          'axes.labelsize': med,\n",
    "          'axes.titlesize': med,\n",
    "          'axes.linewidth': 2,\n",
    "          'xtick.labelsize': med,\n",
    "          'ytick.labelsize': med,\n",
    "          'figure.titlesize': large}\n",
    "plt.style.use('seaborn-white')\n",
    "plt.rcParams.update(params)\n",
    "%matplotlib inline"
   ]
  },
  {
   "cell_type": "markdown",
   "id": "0808daea",
   "metadata": {},
   "source": [
    "## Iris dataset: Sparse PCA, Kernel PCA, autoencoder, NMF (TODO); MSE, Frobenius (TODO)"
   ]
  },
  {
   "cell_type": "code",
   "execution_count": 17,
   "id": "df3f7481",
   "metadata": {},
   "outputs": [
    {
     "name": "stdout",
     "output_type": "stream",
     "text": [
      "The predictor variable shape:  (150, 4)\n",
      "The response variable shape:  (150,)\n"
     ]
    }
   ],
   "source": [
    "# load Iris dataset\n",
    "iris = load_iris()\n",
    "X = iris.data # predictor\n",
    "y = iris.target #response\n",
    "\n",
    "print('The predictor variable shape: ', X.shape)\n",
    "print('The response variable shape: ', y.shape)\n",
    "\n",
    "# Standardize the data\n",
    "#scaler = MinMaxScaler()\n",
    "#X_scaled = scaler.fit_transform(X)\n",
    "\n",
    "X_train, X_test, y_train, y_test = train_test_split(X, y, stratify=y, random_state=0)"
   ]
  },
  {
   "cell_type": "markdown",
   "id": "0db1ee3f",
   "metadata": {},
   "source": [
    "Training time:\n",
    "- scale X => X_scaled\n",
    "- Fit to X_scaled\n",
    "\n",
    "Run time:\n",
    "- scale X => X_scaled\n",
    "- Feed X_scaled to model\n",
    "- Get X_pre_image from model\n",
    "- Feed X_pre_image to inverse scaler => X_pre_image_unscaled\n",
    "- MSE(X, X_pre_image_unscaled)\n",
    "\n",
    "\n",
    "Dimensionality reduction & scalers are fit to trained data"
   ]
  },
  {
   "cell_type": "markdown",
   "id": "f8f79669",
   "metadata": {},
   "source": [
    "### Sparse PCA + Iris + MSE"
   ]
  },
  {
   "cell_type": "code",
   "execution_count": 8,
   "id": "680ccbd3",
   "metadata": {},
   "outputs": [],
   "source": [
    "# Experiment parameters\n",
    "\n",
    "k=2 # Number of principal components"
   ]
  },
  {
   "cell_type": "code",
   "execution_count": 9,
   "id": "23830e6d",
   "metadata": {},
   "outputs": [
    {
     "name": "stdout",
     "output_type": "stream",
     "text": [
      "alpha= 0.001 err= 0.2043732558490774\n",
      "alpha= 0.002 err= 0.20437326545542334\n",
      "alpha= 0.005 err= 0.20437335355328623\n",
      "alpha= 0.01 err= 0.2043736831651194\n",
      "alpha= 0.02 err= 0.20437508533290538\n",
      "alpha= 0.05 err= 0.20438454406514173\n",
      "alpha= 0.1 err= 0.2044170150945047\n",
      "alpha= 0.2 err= 0.2045506684800743\n",
      "alpha= 0.5 err= 0.2054457247487394\n",
      "alpha= 1.0 err= 0.20569756539961365\n",
      "alpha= 2.0 err= 0.20916797925025438\n",
      "alpha= 5.0 err= 0.2701620810923319\n",
      "\n",
      "\n",
      "Best SPCA:\n",
      "- alpha: 0.001\n",
      "- err: 0.2043732558490774\n"
     ]
    }
   ],
   "source": [
    "best_spca_alpha, best_spca_alpha_err = spca_exp(X_scaled,k)"
   ]
  },
  {
   "cell_type": "markdown",
   "id": "d9db0821",
   "metadata": {},
   "source": [
    "### Kernel PCA + Iris + MSE"
   ]
  },
  {
   "cell_type": "code",
   "execution_count": 10,
   "id": "a0edfb75",
   "metadata": {},
   "outputs": [],
   "source": [
    "#kpca_rbf = KernelPCA(n_components = k, kernel=\"rbf\", gamma=0.04) #todo: choice of gamma? choice of kernel? Sweep?\n",
    "#kpca_rbf = kpca_rbf.fit_transform(X_scaled)"
   ]
  },
  {
   "cell_type": "code",
   "execution_count": 11,
   "id": "0682d57d",
   "metadata": {},
   "outputs": [
    {
     "name": "stdout",
     "output_type": "stream",
     "text": [
      "Kernel PCA ( Linear kernel ) MSE reconstruction loss: 0.2046553027769746\n",
      "- New best kernel\n",
      "Kernel PCA ( RBF kernel, $\\gamma=0.04$ ) MSE reconstruction loss: 0.04727377268500417\n",
      "- New best kernel\n",
      "Kernel PCA ( Sigmoid kernel, $\\gamma=10^{-3}, r=1$ ) MSE reconstruction loss: 0.06862464338168228\n",
      "\n",
      "\n",
      "Best MSE reconstruction error: 0.04727377268500417\n",
      "- Kernel: RBF kernel, $\\gamma=0.04$\n"
     ]
    }
   ],
   "source": [
    "best_kernel, best_kernel_err = kernel_exp(X_scaled,k)"
   ]
  },
  {
   "cell_type": "markdown",
   "id": "f0fb909b",
   "metadata": {},
   "source": [
    "### Autoencoder + Iris + MSE"
   ]
  },
  {
   "cell_type": "code",
   "execution_count": 12,
   "id": "f470c00d",
   "metadata": {},
   "outputs": [],
   "source": [
    "# from sklearn.model_selection import train_test_split\n",
    "# X_train, X_test = train_test_split(X, test_size=0.2, random_state=42)"
   ]
  },
  {
   "cell_type": "code",
   "execution_count": 18,
   "id": "56281fdd",
   "metadata": {},
   "outputs": [
    {
     "name": "stdout",
     "output_type": "stream",
     "text": [
      "Model: \"model\"\n",
      "_________________________________________________________________\n",
      " Layer (type)                Output Shape              Param #   \n",
      "=================================================================\n",
      " input (InputLayer)          [(None, 4)]               0         \n",
      "                                                                 \n",
      " encoding (Dense)            (None, 2)                 10        \n",
      "                                                                 \n",
      " decoding (Dense)            (None, 4)                 12        \n",
      "                                                                 \n",
      "=================================================================\n",
      "Total params: 22 (88.00 Byte)\n",
      "Trainable params: 22 (88.00 Byte)\n",
      "Non-trainable params: 0 (0.00 Byte)\n",
      "_________________________________________________________________\n"
     ]
    },
    {
     "data": {
      "image/png": "[encoded data removed]",
      "text/plain": [
       "<Figure size 1600x1000 with 1 Axes>"
      ]
     },
     "metadata": {},
     "output_type": "display_data"
    },
    {
     "name": "stdout",
     "output_type": "stream",
     "text": [
      "Training loss: 5.438014030456543\n",
      "Validation loss: 5.761511325836182\n",
      "MSE on training data: 5.40630094889679\n",
      "MSE on test data: 5.163842532134361\n",
      "4/4 [==============================] - 0s 546us/step\n"
     ]
    }
   ],
   "source": [
    "autoencoder_err_train, autoencoder_err_test = autoencoder_exp(X_train, X_test, 1)"
   ]
  },
  {
   "cell_type": "code",
   "execution_count": null,
   "id": "0e3063fe",
   "metadata": {},
   "outputs": [],
   "source": [
    "autoencoder_err_train, autoencoder_err_test = autoencoder_exp(X_train, X_test, 2)"
   ]
  },
  {
   "cell_type": "code",
   "execution_count": null,
   "id": "4ac0f7c8",
   "metadata": {},
   "outputs": [],
   "source": [
    "autoencoder_err_train, autoencoder_err_test = autoencoder_exp(X_train, X_test, 3)"
   ]
  },
  {
   "cell_type": "markdown",
   "id": "b1411142",
   "metadata": {},
   "source": [
    "### NMF + iris + MSE"
   ]
  },
  {
   "cell_type": "code",
   "execution_count": null,
   "id": "aafe4657",
   "metadata": {},
   "outputs": [],
   "source": [
    "# Note: using unscaled dataset\n",
    "_, best_nmf_err = nmf_exp(X,k)"
   ]
  },
  {
   "cell_type": "markdown",
   "id": "fe9722bb",
   "metadata": {},
   "source": [
    "## Iris + MSE summary"
   ]
  },
  {
   "cell_type": "code",
   "execution_count": null,
   "id": "3699c7e5",
   "metadata": {},
   "outputs": [],
   "source": [
    "print(\"Summary, Iris + MSE:\")\n",
    "print(\"- k=\",k)\n",
    "print(\"- Sparse PCA (alpha=\",best_spca_alpha,\"): err=\",best_spca_alpha_err)\n",
    "print(\"- Kernel PCA(\",best_kernel,\"): err=\",best_kernel_err)\n",
    "print(\"- Autoencoder: err=\",best_autoencoder_err)\n",
    "print(\"- NMF: err=\",best_nmf_err)"
   ]
  },
  {
   "cell_type": "markdown",
   "id": "16fffd77",
   "metadata": {},
   "source": [
    "## Swiss roll dataset: Sparse PCA, Kernel PCA, autoencoder"
   ]
  },
  {
   "cell_type": "code",
   "execution_count": null,
   "id": "da398f8b",
   "metadata": {},
   "outputs": [],
   "source": [
    "# Drawing on inspiration from https://docs.google.com/document/d/1lmaQowAhgf1OLbnSjl3X20j1idh-BdaQPZTrJslSJc0/edit \"Kernel PCA\" section\n",
    "\n",
    "X, t = make_swiss_roll(n_samples=1000, noise=0.2, random_state=42)\n",
    "scaler = MinMaxScaler()\n",
    "X_scaled = scaler.fit_transform(X)\n",
    "\n",
    "axes = [-11.5, 14, -2, 23, -12, 15]\n",
    "\n",
    "fig = plt.figure(figsize=(6, 5))\n",
    "ax = fig.add_subplot(111, projection='3d')\n",
    "\n",
    "ax.scatter(X[:, 0], X[:, 1], X[:, 2], c=t, cmap=plt.cm.hot)\n",
    "ax.view_init(10, -70)\n",
    "ax.set_xlabel(\"$x_1$\", fontsize=18)\n",
    "ax.set_ylabel(\"$x_2$\", fontsize=18)\n",
    "ax.set_zlabel(\"$x_3$\", fontsize=18)\n",
    "ax.set_xlim(axes[0:2])\n",
    "ax.set_ylim(axes[2:4])\n",
    "ax.set_zlim(axes[4:6])\n",
    "\n",
    "plt.show()"
   ]
  },
  {
   "cell_type": "markdown",
   "id": "a83de4b1",
   "metadata": {},
   "source": [
    "### Sparse PCA + Swiss roll + MSE"
   ]
  },
  {
   "cell_type": "code",
   "execution_count": null,
   "id": "eab1b837",
   "metadata": {},
   "outputs": [],
   "source": [
    "best_spca_alpha, best_spca_alpha_err = spca_exp(X_scaled,k)"
   ]
  },
  {
   "cell_type": "markdown",
   "id": "dc1f6245",
   "metadata": {},
   "source": [
    "### Kernel PCA + Swiss roll + MSE"
   ]
  },
  {
   "cell_type": "code",
   "execution_count": null,
   "id": "804c07de",
   "metadata": {},
   "outputs": [],
   "source": [
    "best_kernel, best_kernel_err=kernel_exp(X_scaled,k)"
   ]
  },
  {
   "cell_type": "markdown",
   "id": "dc733eb5",
   "metadata": {},
   "source": [
    "### Autoencoder + Swiss roll + MSE"
   ]
  },
  {
   "cell_type": "code",
   "execution_count": null,
   "id": "530eb355",
   "metadata": {},
   "outputs": [],
   "source": [
    "#_,best_autoencoder_err = autoencoder_exp(X, k)"
   ]
  },
  {
   "cell_type": "code",
   "execution_count": null,
   "id": "720b5a7f",
   "metadata": {},
   "outputs": [],
   "source": [
    "_,best_autoencoder_err = autoencoder_exp(X_scaled, k)"
   ]
  },
  {
   "cell_type": "markdown",
   "id": "dfac6f23",
   "metadata": {},
   "source": [
    "### NMF + Swiss roll + MSE"
   ]
  },
  {
   "cell_type": "code",
   "execution_count": null,
   "id": "e9e71a54",
   "metadata": {},
   "outputs": [],
   "source": [
    "# Note: using unscaled dataset\n",
    "_, best_nmf_err = nmf_exp(X_scaled,k)"
   ]
  },
  {
   "cell_type": "markdown",
   "id": "f3446525",
   "metadata": {},
   "source": [
    "## Swiss roll + MSE summary"
   ]
  },
  {
   "cell_type": "code",
   "execution_count": null,
   "id": "d5fe217d",
   "metadata": {},
   "outputs": [],
   "source": [
    "print(\"Summary, Swiss roll + MSE:\")\n",
    "print(\"- k=\",k)\n",
    "print(\"- Sparse PCA (alpha=\",best_spca_alpha,\"): err=\",best_spca_alpha_err)\n",
    "print(\"- Kernel PCA(\",best_kernel,\"): err=\",best_kernel_err)\n",
    "print(\"- Autoencoder: err=\",best_autoencoder_err)\n",
    "print(\"- NMF: err=\",best_nmf_err)"
   ]
  },
  {
   "cell_type": "code",
   "execution_count": null,
   "id": "65fd7621",
   "metadata": {},
   "outputs": [],
   "source": []
  }
 ],
 "metadata": {
  "kernelspec": {
   "display_name": "Python 3 (ipykernel)",
   "language": "python",
   "name": "python3"
  },
  "language_info": {
   "codemirror_mode": {
    "name": "ipython",
    "version": 3
   },
   "file_extension": ".py",
   "mimetype": "text/x-python",
   "name": "python",
   "nbconvert_exporter": "python",
   "pygments_lexer": "ipython3",
   "version": "3.10.10"
  }
 },
 "nbformat": 4,
 "nbformat_minor": 5
}
