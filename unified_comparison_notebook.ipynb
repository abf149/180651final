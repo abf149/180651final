{
 "cells": [
  {
   "cell_type": "markdown",
   "id": "9ccffa5a",
   "metadata": {},
   "source": [
    "# 18.065 project: comparison result"
   ]
  },
  {
   "cell_type": "code",
   "execution_count": 1,
   "id": "a58361c7",
   "metadata": {},
   "outputs": [],
   "source": [
    "#import sys\n",
    "#!{sys.executable} -m pip install tf-nightly"
   ]
  },
  {
   "cell_type": "code",
   "execution_count": 2,
   "id": "df5a3bd3",
   "metadata": {},
   "outputs": [],
   "source": [
    "# Autoencoder imports\n",
    "from sklearn.datasets import load_iris\n",
    "from sklearn.preprocessing import MinMaxScaler\n",
    "import tensorflow as tf\n",
    "from matplotlib import pyplot as plt\n",
    "%matplotlib inline"
   ]
  },
  {
   "cell_type": "code",
   "execution_count": 3,
   "id": "f1ca05da",
   "metadata": {},
   "outputs": [],
   "source": [
    "# Kernel PCA imports\n",
    "import numpy as np\n",
    "import os\n",
    "import sys\n",
    "import sklearn\n",
    "import matplotlib as mpl\n",
    "import matplotlib.pyplot as plt\n",
    "from sklearn.decomposition import PCA, KernelPCA, SparsePCA\n",
    "from sklearn.datasets import make_swiss_roll\n",
    "from sklearn.metrics import mean_squared_error\n",
    "import math"
   ]
  },
  {
   "cell_type": "code",
   "execution_count": 4,
   "id": "57118df8",
   "metadata": {},
   "outputs": [],
   "source": [
    "# NMF imports\n",
    "import numpy as np\n",
    "from sklearn.decomposition import NMF\n",
    "from sklearn.datasets import load_iris\n",
    "import matplotlib.pyplot as plt"
   ]
  },
  {
   "cell_type": "code",
   "execution_count": 5,
   "id": "267148c5",
   "metadata": {},
   "outputs": [
    {
     "name": "stderr",
     "output_type": "stream",
     "text": [
      "/var/folders/_1/ph90y1r548z0kmxwq40w_3y80000gn/T/ipykernel_5222/2071146880.py:12: MatplotlibDeprecationWarning: The seaborn styles shipped by Matplotlib are deprecated since 3.6, as they no longer correspond to the styles shipped by seaborn. However, they will remain available as 'seaborn-v0_8-<style>'. Alternatively, directly use the seaborn API instead.\n",
      "  plt.style.use('seaborn-white')\n"
     ]
    }
   ],
   "source": [
    "# more readable visuals \n",
    "large = 22; med = 16; small = 10\n",
    "params = {'axes.titlesize': large,\n",
    "          'legend.fontsize': med,\n",
    "          'figure.figsize': (16, 10),\n",
    "          'axes.labelsize': med,\n",
    "          'axes.titlesize': med,\n",
    "          'axes.linewidth': 2,\n",
    "          'xtick.labelsize': med,\n",
    "          'ytick.labelsize': med,\n",
    "          'figure.titlesize': large}\n",
    "plt.style.use('seaborn-white')\n",
    "plt.rcParams.update(params)\n",
    "%matplotlib inline"
   ]
  },
  {
   "cell_type": "markdown",
   "id": "0808daea",
   "metadata": {},
   "source": [
    "## Iris dataset: Sparse PCA, Kernel PCA, autoencoder, NMF (TODO); MSE, Frobenius (TODO)"
   ]
  },
  {
   "cell_type": "code",
   "execution_count": 6,
   "id": "df3f7481",
   "metadata": {},
   "outputs": [
    {
     "name": "stdout",
     "output_type": "stream",
     "text": [
      "The predictor variable shape:  (150, 4)\n",
      "The response variable shape:  (150,)\n"
     ]
    }
   ],
   "source": [
    "# load Iris dataset\n",
    "iris = load_iris()\n",
    "X = iris.data # predictor\n",
    "y = iris.target #response\n",
    "\n",
    "print('The predictor variable shape: ', X.shape)\n",
    "print('The response variable shape: ', y.shape)\n",
    "\n",
    "# Standardize the data\n",
    "scaler = MinMaxScaler()\n",
    "X_scaled = scaler.fit_transform(X)"
   ]
  },
  {
   "cell_type": "markdown",
   "id": "f8f79669",
   "metadata": {},
   "source": [
    "### Sparse PCA + Iris + MSE"
   ]
  },
  {
   "cell_type": "code",
   "execution_count": 7,
   "id": "680ccbd3",
   "metadata": {},
   "outputs": [],
   "source": [
    "# Experiment parameters\n",
    "\n",
    "k=2 # Number of principal components"
   ]
  },
  {
   "cell_type": "code",
   "execution_count": 8,
   "id": "1575d516",
   "metadata": {},
   "outputs": [],
   "source": [
    "# TODO: hyperparameter search\n",
    "\n",
    "#SparsePCA(n_components=k, alpha=1, ridge_alpha=0.01, max_iter=1000, tol=1e-08, method='lars', n_jobs=1, U_init=None, V_init=None, verbose=False, random_state=None)\n",
    "\n",
    "def spca_exp(X_scaled,k):\n",
    "    alpha_vals=[0.001, 0.002, 0.005, 0.01, 0.02, 0.05, 0.10, 0.20, 0.50, 1.0, 2.0, 5.0]\n",
    "    ridge_alpha=0.0\n",
    "\n",
    "    best_spca_alpha=0.0\n",
    "    best_spca_alpha_err=math.inf\n",
    "    for idx in range(len(alpha_vals)):\n",
    "        alpha=alpha_vals[idx]\n",
    "        spca = SparsePCA(n_components=k, ridge_alpha=ridge_alpha, alpha=alpha)\n",
    "        spca.fit(X_scaled)\n",
    "        V=spca.components_.transpose()\n",
    "        Z=spca.transform(X_scaled)\n",
    "        X_preimage=Z @ V.transpose()\n",
    "        spca_err=mean_squared_error(X_scaled, X_preimage)\n",
    "        print(\"alpha=\",alpha,\"err=\",spca_err)\n",
    "        if spca_err < best_spca_alpha_err:\n",
    "            best_spca_alpha_err=spca_err\n",
    "            best_spca_alpha=alpha\n",
    "\n",
    "    print(\"\\n\\nBest SPCA:\")\n",
    "    print(\"- alpha:\",best_spca_alpha)\n",
    "    print(\"- err:\",best_spca_alpha_err)\n",
    "    \n",
    "    return best_spca_alpha, best_spca_alpha_err\n",
    "\n"
   ]
  },
  {
   "cell_type": "code",
   "execution_count": 9,
   "id": "23830e6d",
   "metadata": {},
   "outputs": [
    {
     "name": "stdout",
     "output_type": "stream",
     "text": [
      "alpha= 0.001 err= 0.2043732558490774\n",
      "alpha= 0.002 err= 0.20437326545542334\n",
      "alpha= 0.005 err= 0.20437335355328623\n",
      "alpha= 0.01 err= 0.2043736831651194\n",
      "alpha= 0.02 err= 0.20437508533290538\n",
      "alpha= 0.05 err= 0.20438454406514173\n",
      "alpha= 0.1 err= 0.2044170150945047\n",
      "alpha= 0.2 err= 0.2045506684800743\n",
      "alpha= 0.5 err= 0.2054457247487394\n",
      "alpha= 1.0 err= 0.20569756539961365\n",
      "alpha= 2.0 err= 0.20916797925025438\n",
      "alpha= 5.0 err= 0.2701620810923319\n",
      "\n",
      "\n",
      "Best SPCA:\n",
      "- alpha: 0.001\n",
      "- err: 0.2043732558490774\n"
     ]
    }
   ],
   "source": [
    "best_spca_alpha, best_spca_alpha_err = spca_exp(X_scaled,k)"
   ]
  },
  {
   "cell_type": "markdown",
   "id": "d9db0821",
   "metadata": {},
   "source": [
    "### Kernel PCA + Iris + MSE"
   ]
  },
  {
   "cell_type": "code",
   "execution_count": 10,
   "id": "a0edfb75",
   "metadata": {},
   "outputs": [],
   "source": [
    "#kpca_rbf = KernelPCA(n_components = k, kernel=\"rbf\", gamma=0.04) #todo: choice of gamma? choice of kernel? Sweep?\n",
    "#kpca_rbf = kpca_rbf.fit_transform(X_scaled)"
   ]
  },
  {
   "cell_type": "code",
   "execution_count": 11,
   "id": "ece04743",
   "metadata": {},
   "outputs": [],
   "source": [
    "# Drawing on inspiration from https://docs.google.com/document/d/1lmaQowAhgf1OLbnSjl3X20j1idh-BdaQPZTrJslSJc0/edit \"Kernel PCA\" section\n",
    "# TODO: hyperparameter sweep for kernel, gamma, coef0, other attributes\n",
    "\n",
    "from sklearn.decomposition import KernelPCA\n",
    "import math\n",
    "\n",
    "def kernel_exp(X_scaled,k):\n",
    "\n",
    "    lin_pca = KernelPCA(n_components = k, kernel=\"linear\", fit_inverse_transform=True)\n",
    "    rbf_pca = KernelPCA(n_components = k, kernel=\"rbf\", gamma=0.0433, fit_inverse_transform=True)\n",
    "    sig_pca = KernelPCA(n_components = k, kernel=\"sigmoid\", gamma=0.001, coef0=1, fit_inverse_transform=True)\n",
    "\n",
    "    kernel_options=((131, lin_pca, \"Linear kernel\"), (132, rbf_pca, \"RBF kernel, $\\gamma=0.04$\"), (133, sig_pca, \"Sigmoid kernel, $\\gamma=10^{-3}, r=1$\"))\n",
    "\n",
    "    best_kernel=\"\"\n",
    "    best_kernel_err=math.inf\n",
    "    for subplot, pca, title in kernel_options:\n",
    "        X_reduced = pca.fit_transform(X_scaled)\n",
    "        X_preimage = pca.inverse_transform(X_reduced)\n",
    "        err=mean_squared_error(X_scaled, X_preimage)\n",
    "        print(\"Kernel PCA (\",title,\") MSE reconstruction loss:\",err)\n",
    "        if err < best_kernel_err:\n",
    "            best_kernel=title\n",
    "            best_kernel_err=err\n",
    "            print(\"- New best kernel\")\n",
    "\n",
    "    print(\"\\n\\nBest MSE reconstruction error:\",best_kernel_err)\n",
    "    print(\"- Kernel:\",best_kernel)\n",
    "    \n",
    "    return best_kernel, best_kernel_err"
   ]
  },
  {
   "cell_type": "code",
   "execution_count": 12,
   "id": "0682d57d",
   "metadata": {},
   "outputs": [
    {
     "name": "stdout",
     "output_type": "stream",
     "text": [
      "Kernel PCA ( Linear kernel ) MSE reconstruction loss: 0.2046553027769746\n",
      "- New best kernel\n",
      "Kernel PCA ( RBF kernel, $\\gamma=0.04$ ) MSE reconstruction loss: 0.04727377268500417\n",
      "- New best kernel\n",
      "Kernel PCA ( Sigmoid kernel, $\\gamma=10^{-3}, r=1$ ) MSE reconstruction loss: 0.06862464338168228\n",
      "\n",
      "\n",
      "Best MSE reconstruction error: 0.04727377268500417\n",
      "- Kernel: RBF kernel, $\\gamma=0.04$\n"
     ]
    }
   ],
   "source": [
    "best_kernel, best_kernel_err = kernel_exp(X_scaled,k)"
   ]
  },
  {
   "cell_type": "markdown",
   "id": "f0fb909b",
   "metadata": {},
   "source": [
    "### Autoencoder + Iris + MSE"
   ]
  },
  {
   "cell_type": "code",
   "execution_count": 13,
   "id": "3d110be8",
   "metadata": {},
   "outputs": [],
   "source": [
    "def plot3clusters(X, title, vtitle, target_names):\n",
    "    colors = ['#A43F98', '#5358E0', '#DE0202']\n",
    "    s = 50\n",
    "    alpha = 0.7\n",
    "    \n",
    "    plt.figure(figsize=(9, 7))\n",
    "    plt.grid(True)\n",
    "    for color, i, target_name in zip(colors, [0, 1, 2], target_names):\n",
    "        plt.scatter(X[y == i, 0], X[y == i, 1], color=color, alpha=alpha, s=s, label=target_name)\n",
    "   \n",
    "    plt.legend(loc='best', shadow=False, scatterpoints=1)\n",
    "    plt.title(title, fontsize=16, fontweight='bold')\n",
    "    \n",
    "    plt.text(0.5, -0.1, 'Principal Component 1', ha='center', fontsize=12, fontweight='bold', transform=plt.gca().transAxes)\n",
    "    plt.text(-0.1, 0.5, 'Principal Component 2', va='center', rotation='vertical', fontsize=12, fontweight='bold', transform=plt.gca().transAxes)\n",
    "    \n",
    "    plt.show()  \n",
    "\n",
    "def autoencoder_exp(X_scaled, k):\n",
    "    input_dim = X_scaled.shape[1] #input shape\n",
    "    output_dim = X_scaled.shape[1]\n",
    "    encoding_dim = k # encoding dimension - #neurons for the dense layers\n",
    "    optimizer = 'adam'\n",
    "    loss = 'mse'\n",
    "\n",
    "    input_layer = tf.keras.Input(shape=(input_dim,), name='input') # input layer\n",
    "    encoding_layer = tf.keras.layers.Dense(encoding_dim, name='encoding')(input_layer) # encoding layer\n",
    "    decoding_layer = tf.keras.layers.Dense(output_dim, name='decoding')(encoding_layer) # decoding layer\n",
    "\n",
    "    autoencoder = tf.keras.Model(input_layer, decoding_layer)\n",
    "    autoencoder.compile(optimizer=optimizer, loss=loss)\n",
    "    autoencoder.summary()\n",
    "    \n",
    "    # Set other parameters\n",
    "    epochs=50\n",
    "    batch_size=16\n",
    "    shuffle=True\n",
    "    validation_split=0.1\n",
    "    verbose=0\n",
    "\n",
    "    # early_stop = tf.keras.callbacks.EarlyStopping(monitor='val_loss', patience=20, verbose=1)\n",
    "\n",
    "    history = autoencoder.fit(X_scaled, X_scaled,\n",
    "                              epochs=epochs,\n",
    "                              batch_size=batch_size,\n",
    "                              shuffle=shuffle,\n",
    "                              validation_split=validation_split,\n",
    "                              verbose=verbose)\n",
    "    #                           callbacks=[early_stop])\n",
    "\n",
    "    # Plot the loss \n",
    "    plt.plot(history.history['loss'], color='#FF7E79',linewidth=3, alpha=0.5)\n",
    "    plt.plot(history.history['val_loss'], color='#007D66', linewidth=3, alpha=0.4)\n",
    "    plt.title('Model train vs Validation loss')\n",
    "    plt.ylabel('Loss')\n",
    "    plt.xlabel('Epoch')\n",
    "    plt.legend(['Train', 'Validation'], loc='best')\n",
    "    plt.grid(True)\n",
    "    plt.show()    \n",
    "    \n",
    "    print(\"Training loss:\", history.history['loss'][-1])\n",
    "    print(\"Validation loss:\", history.history['val_loss'][-1])    \n",
    "    \n",
    "    if k==2: # can only plot if there are 2dims\n",
    "        encoder = tf.keras.Model(input_layer, encoding_layer)\n",
    "        encoded_data = encoder.predict(X_scaled)\n",
    "\n",
    "        target_names = iris.target_names\n",
    "\n",
    "        #plot3clusters(encoded_data, 'Encoded data latent-space', 'dimension ', target_names);  \n",
    "        \n",
    "    autoencoder_err=mean_squared_error(X_scaled, autoencoder(X_scaled))\n",
    "    print(\"MSE=\",autoencoder_err)\n",
    "    \n",
    "    return None, autoencoder_err"
   ]
  },
  {
   "cell_type": "code",
   "execution_count": 14,
   "id": "56281fdd",
   "metadata": {},
   "outputs": [
    {
     "name": "stdout",
     "output_type": "stream",
     "text": [
      "Model: \"model\"\n",
      "_________________________________________________________________\n",
      " Layer (type)                Output Shape              Param #   \n",
      "=================================================================\n",
      " input (InputLayer)          [(None, 4)]               0         \n",
      "                                                                 \n",
      " encoding (Dense)            (None, 2)                 10        \n",
      "                                                                 \n",
      " decoding (Dense)            (None, 4)                 12        \n",
      "                                                                 \n",
      "=================================================================\n",
      "Total params: 22 (88.00 Byte)\n",
      "Trainable params: 22 (88.00 Byte)\n",
      "Non-trainable params: 0 (0.00 Byte)\n",
      "_________________________________________________________________\n"
     ]
    },
    {
     "data": {
      "image/png": "[encoded data removed]",
      "text/plain": [
       "<Figure size 1600x1000 with 1 Axes>"
      ]
     },
     "metadata": {},
     "output_type": "display_data"
    },
    {
     "name": "stdout",
     "output_type": "stream",
     "text": [
      "Training loss: 0.07726314663887024\n",
      "Validation loss: 0.14430354535579681\n",
      "5/5 [==============================] - 0s 396us/step\n",
      "MSE= 0.08328432819452469\n"
     ]
    }
   ],
   "source": [
    "_,best_autoencoder_err = autoencoder_exp(X_scaled, k)"
   ]
  },
  {
   "cell_type": "markdown",
   "id": "b1411142",
   "metadata": {},
   "source": [
    "### NMF + iris + MSE"
   ]
  },
  {
   "cell_type": "code",
   "execution_count": 17,
   "id": "753dc187",
   "metadata": {},
   "outputs": [],
   "source": [
    "def nmf_exp(X,k):\n",
    "    print(\"\\n\\nBest NMF:\")    \n",
    "    \n",
    "    # Perform NMF\n",
    "    model = NMF(n_components=k, init='random', random_state=109)\n",
    "    W = model.fit_transform(X)\n",
    "    H = model.components_\n",
    "\n",
    "    # Print the basis vectors and the coefficients\n",
    "    print(\"Basis vectors:\\n\", H)\n",
    "    print(\"Coefficients:\\n\", W)    \n",
    "    \n",
    "    X_reconstructed = np.dot(W, H)\n",
    "\n",
    "    # Compute the MSE\n",
    "    mse = np.mean((X - X_reconstructed) ** 2)\n",
    "    print('\\n\\nBest MSE reconstruction error:', mse)    \n",
    "    \n",
    "    return None, mse"
   ]
  },
  {
   "cell_type": "code",
   "execution_count": 18,
   "id": "4be6f854",
   "metadata": {},
   "outputs": [
    {
     "name": "stdout",
     "output_type": "stream",
     "text": [
      "\n",
      "\n",
      "Best NMF:\n",
      "Basis vectors:\n",
      " [[2.89834894 0.71242145 3.66932171 1.4087588 ]\n",
      " [1.34261812 0.97709817 0.25009501 0.        ]]\n",
      "Coefficients:\n",
      " [[0.14461206 3.48283449]\n",
      " [0.18443298 3.13661713]\n",
      " [0.13942265 3.18969651]\n",
      " [0.19290993 3.02074977]\n",
      " [0.1337935  3.49099316]\n",
      " [0.20642574 3.67020457]\n",
      " [0.15354577 3.19268257]\n",
      " [0.17472615 3.35064978]\n",
      " [0.18301849 2.86666646]\n",
      " [0.18867826 3.17184701]\n",
      " [0.15654236 3.6805498 ]\n",
      " [0.19402166 3.22662375]\n",
      " [0.17204593 3.11318638]\n",
      " [0.0917321  3.00531249]\n",
      " [0.06823895 4.12073592]\n",
      " [0.12189725 4.13357801]\n",
      " [0.11293292 3.81725272]\n",
      " [0.15496027 3.46263324]\n",
      " [0.21097378 3.76951114]\n",
      " [0.15199431 3.58124322]\n",
      " [0.22962793 3.4516537 ]\n",
      " [0.17112224 3.5092513 ]\n",
      " [0.0321453  3.46351332]\n",
      " [0.26333574 3.20836329]\n",
      " [0.26414128 3.11633764]\n",
      " [0.23321824 3.10672505]\n",
      " [0.21879577 3.27348525]\n",
      " [0.17002411 3.48970445]\n",
      " [0.15543063 3.47467582]\n",
      " [0.20954226 3.0794104 ]\n",
      " [0.22036083 3.07125173]\n",
      " [0.20357794 3.48477528]\n",
      " [0.10699758 3.82064974]\n",
      " [0.09130939 4.0198972 ]\n",
      " [0.19902647 3.15164576]\n",
      " [0.12216597 3.35735454]\n",
      " [0.12939423 3.69412452]\n",
      " [0.12140645 3.46756241]\n",
      " [0.15086556 2.95521917]\n",
      " [0.17676499 3.39428178]\n",
      " [0.12954822 3.45576328]\n",
      " [0.22471066 2.61611521]\n",
      " [0.13330612 3.05880052]\n",
      " [0.23071246 3.28487342]\n",
      " [0.25583534 3.41399383]\n",
      " [0.19274235 3.07278388]\n",
      " [0.16501931 3.56468244]\n",
      " [0.16075701 3.10930248]\n",
      " [0.15450351 3.6369178 ]\n",
      " [0.16013266 3.33562114]\n",
      " [1.1051835  2.70090824]\n",
      " [1.05655224 2.49243907]\n",
      " [1.169019   2.51176025]\n",
      " [0.9796577  1.85784771]\n",
      " [1.11708317 2.29214634]\n",
      " [1.0567028  2.02025489]\n",
      " [1.10282829 2.40687242]\n",
      " [0.76398786 1.96578439]\n",
      " [1.08964588 2.42797151]\n",
      " [0.92539729 1.95067519]\n",
      " [0.847892   1.72872962]\n",
      " [0.99379785 2.28098384]\n",
      " [0.96758702 2.08482077]\n",
      " [1.11317307 2.15284823]\n",
      " [0.8355254  2.35927189]\n",
      " [1.03772708 2.62850768]\n",
      " [1.05780093 2.03980174]\n",
      " [0.94298393 2.21974811]\n",
      " [1.14027177 1.88726834]\n",
      " [0.92006748 2.08222559]\n",
      " [1.14752226 2.10338922]\n",
      " [0.94799215 2.37859307]\n",
      " [1.20946426 1.93922421]\n",
      " [1.10125638 2.14146006]\n",
      " [1.01544858 2.45099362]\n",
      " [1.04446796 2.53308501]\n",
      " [1.15959791 2.36971951]\n",
      " [1.21779065 2.29554104]\n",
      " [1.07473603 2.16253906]\n",
      " [0.80948558 2.34489766]\n",
      " [0.90343515 2.02356495]\n",
      " [0.86971374 2.08052824]\n",
      " [0.91693393 2.25286968]\n",
      " [1.24288291 1.81818424]\n",
      " [1.05372324 1.95253774]\n",
      " [1.04118563 2.40129118]\n",
      " [1.1181949  2.49802032]\n",
      " [1.08946127 2.05985555]\n",
      " [0.9436117  2.22725238]\n",
      " [0.96209826 1.96142905]\n",
      " [1.03646315 1.88637283]\n",
      " [1.08102015 2.24140094]\n",
      " [0.94908686 2.16431697]\n",
      " [0.77480643 1.95762572]\n",
      " [0.99332407 2.03511832]\n",
      " [0.95867554 2.25432359]\n",
      " [0.97780347 2.18233167]\n",
      " [1.01137089 2.36372963]\n",
      " [0.69951442 2.19492393]\n",
      " [0.96320998 2.16730303]\n",
      " [1.49981382 1.7471547 ]\n",
      " [1.26984984 1.6703165 ]\n",
      " [1.4776977  2.05840571]\n",
      " [1.36900243 1.8284489 ]\n",
      " [1.45243964 1.8131745 ]\n",
      " [1.65150435 2.01923144]\n",
      " [1.10812405 1.43502188]\n",
      " [1.5530033  2.00743463]\n",
      " [1.4590231  1.72229013]\n",
      " [1.51519745 2.25845268]\n",
      " [1.25057135 2.21449261]\n",
      " [1.32882931 1.85858442]\n",
      " [1.37808835 2.07455786]\n",
      " [1.27234544 1.53966394]\n",
      " [1.31281116 1.62110092]\n",
      " [1.32632354 2.03673279]\n",
      " [1.34092719 2.00426561]\n",
      " [1.61702683 2.42022554]\n",
      " [1.77947811 1.70501214]\n",
      " [1.2530601  1.61619416]\n",
      " [1.43001057 2.10784463]\n",
      " [1.22059423 1.688166  ]\n",
      " [1.68412763 1.94272131]\n",
      " [1.22294944 1.98220181]\n",
      " [1.39645675 2.11277381]\n",
      " [1.45450568 2.22946076]\n",
      " [1.18875767 2.02712252]\n",
      " [1.19253259 2.05030984]\n",
      " [1.41086562 1.75968648]\n",
      " [1.4046223  2.23980599]\n",
      " [1.52742367 2.05259878]\n",
      " [1.53028849 2.65817815]\n",
      " [1.42121383 1.73948523]\n",
      " [1.22987151 2.02107216]\n",
      " [1.34987108 1.66661788]\n",
      " [1.55737359 2.20627113]\n",
      " [1.38719307 1.96619477]\n",
      " [1.33010863 2.01242428]\n",
      " [1.16712054 2.04343987]\n",
      " [1.34797427 2.20674257]\n",
      " [1.42168761 1.98535075]\n",
      " [1.29855107 2.27662618]\n",
      " [1.26984984 1.6703165 ]\n",
      " [1.47471814 1.99068856]\n",
      " [1.43784958 2.03196881]\n",
      " [1.32662631 2.10080947]\n",
      " [1.2742303  1.82165718]\n",
      " [1.291504   2.07414922]\n",
      " [1.32805961 2.0162881 ]\n",
      " [1.23520131 1.88952176]]\n",
      "\n",
      "\n",
      "Best MSE reconstruction error: 0.025884713404763195\n"
     ]
    }
   ],
   "source": [
    "# Note: using unscaled dataset\n",
    "_, best_nmf_err = nmf_exp(X,k)"
   ]
  },
  {
   "cell_type": "markdown",
   "id": "fe9722bb",
   "metadata": {},
   "source": [
    "## Iris + MSE summary"
   ]
  },
  {
   "cell_type": "code",
   "execution_count": null,
   "id": "3699c7e5",
   "metadata": {},
   "outputs": [],
   "source": [
    "print(\"Summary, Iris + MSE:\")\n",
    "print(\"- k=\",k)\n",
    "print(\"- Sparse PCA (alpha=\",best_spca_alpha,\"): err=\",best_spca_alpha_err)\n",
    "print(\"- Kernel PCA(\",best_kernel,\"): err=\",best_kernel_err)\n",
    "print(\"- Autoencoder: err=\",best_autoencoder_err)\n",
    "print(\"- NMF: err=\",best_nmf_err)"
   ]
  },
  {
   "cell_type": "markdown",
   "id": "16fffd77",
   "metadata": {},
   "source": [
    "## Swiss roll dataset: Sparse PCA, Kernel PCA, autoencoder"
   ]
  },
  {
   "cell_type": "code",
   "execution_count": null,
   "id": "da398f8b",
   "metadata": {},
   "outputs": [],
   "source": [
    "# Drawing on inspiration from https://docs.google.com/document/d/1lmaQowAhgf1OLbnSjl3X20j1idh-BdaQPZTrJslSJc0/edit \"Kernel PCA\" section\n",
    "\n",
    "X, t = make_swiss_roll(n_samples=1000, noise=0.2, random_state=42)\n",
    "scaler = MinMaxScaler()\n",
    "X_scaled = scaler.fit_transform(X)\n",
    "\n",
    "axes = [-11.5, 14, -2, 23, -12, 15]\n",
    "\n",
    "fig = plt.figure(figsize=(6, 5))\n",
    "ax = fig.add_subplot(111, projection='3d')\n",
    "\n",
    "ax.scatter(X[:, 0], X[:, 1], X[:, 2], c=t, cmap=plt.cm.hot)\n",
    "ax.view_init(10, -70)\n",
    "ax.set_xlabel(\"$x_1$\", fontsize=18)\n",
    "ax.set_ylabel(\"$x_2$\", fontsize=18)\n",
    "ax.set_zlabel(\"$x_3$\", fontsize=18)\n",
    "ax.set_xlim(axes[0:2])\n",
    "ax.set_ylim(axes[2:4])\n",
    "ax.set_zlim(axes[4:6])\n",
    "\n",
    "plt.show()"
   ]
  },
  {
   "cell_type": "markdown",
   "id": "a83de4b1",
   "metadata": {},
   "source": [
    "### Sparse PCA + Swiss roll + MSE"
   ]
  },
  {
   "cell_type": "code",
   "execution_count": null,
   "id": "eab1b837",
   "metadata": {},
   "outputs": [],
   "source": [
    "best_spca_alpha, best_spca_alpha_err = spca_exp(X_scaled,k)"
   ]
  },
  {
   "cell_type": "markdown",
   "id": "dc1f6245",
   "metadata": {},
   "source": [
    "### Kernel PCA + Swiss roll + MSE"
   ]
  },
  {
   "cell_type": "code",
   "execution_count": null,
   "id": "804c07de",
   "metadata": {},
   "outputs": [],
   "source": [
    "best_kernel, best_kernel_err=kernel_exp(X_scaled,k)"
   ]
  },
  {
   "cell_type": "markdown",
   "id": "dc733eb5",
   "metadata": {},
   "source": [
    "### Autoencoder + Swiss roll + MSE"
   ]
  },
  {
   "cell_type": "code",
   "execution_count": null,
   "id": "720b5a7f",
   "metadata": {},
   "outputs": [],
   "source": [
    "_,best_autoencoder_err = autoencoder_exp(X_scaled, k)"
   ]
  },
  {
   "cell_type": "markdown",
   "id": "f3446525",
   "metadata": {},
   "source": [
    "## Swiss roll + MSE summary"
   ]
  },
  {
   "cell_type": "code",
   "execution_count": null,
   "id": "d5fe217d",
   "metadata": {},
   "outputs": [],
   "source": [
    "print(\"Summary, Swiss roll + MSE:\")\n",
    "print(\"- k=\",k)\n",
    "print(\"- Sparse PCA (alpha=\",best_spca_alpha,\"): err=\",best_spca_alpha_err)\n",
    "print(\"- Kernel PCA(\",best_kernel,\"): err=\",best_kernel_err)\n",
    "print(\"- Autoencoder: err=\",best_autoencoder_err)"
   ]
  },
  {
   "cell_type": "code",
   "execution_count": null,
   "id": "9e77c19c",
   "metadata": {},
   "outputs": [],
   "source": []
  }
 ],
 "metadata": {
  "kernelspec": {
   "display_name": "Python 3 (ipykernel)",
   "language": "python",
   "name": "python3"
  },
  "language_info": {
   "codemirror_mode": {
    "name": "ipython",
    "version": 3
   },
   "file_extension": ".py",
   "mimetype": "text/x-python",
   "name": "python",
   "nbconvert_exporter": "python",
   "pygments_lexer": "ipython3",
   "version": "3.10.10"
  }
 },
 "nbformat": 4,
 "nbformat_minor": 5
}
