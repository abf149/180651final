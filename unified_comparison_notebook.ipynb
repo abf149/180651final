{
 "cells": [
  {
   "cell_type": "markdown",
   "id": "9ccffa5a",
   "metadata": {},
   "source": [
    "# 18.065 project: comparison result"
   ]
  },
  {
   "cell_type": "code",
   "execution_count": 1,
   "id": "a58361c7",
   "metadata": {},
   "outputs": [],
   "source": [
    "#import sys\n",
    "#!{sys.executable} -m pip install tf-nightly"
   ]
  },
  {
   "cell_type": "code",
   "execution_count": 2,
   "id": "a707cb00",
   "metadata": {},
   "outputs": [],
   "source": [
    "from sklearn_wrappers import *"
   ]
  },
  {
   "cell_type": "code",
   "execution_count": 16,
   "id": "df5a3bd3",
   "metadata": {},
   "outputs": [],
   "source": [
    "# Autoencoder imports\n",
    "from sklearn.datasets import load_iris\n",
    "from sklearn.preprocessing import MinMaxScaler\n",
    "from  sklearn.model_selection import train_test_split\n",
    "import tensorflow as tf\n",
    "from matplotlib import pyplot as plt\n",
    "%matplotlib inline"
   ]
  },
  {
   "cell_type": "code",
   "execution_count": 4,
   "id": "f1ca05da",
   "metadata": {},
   "outputs": [],
   "source": [
    "# Kernel PCA imports\n",
    "import numpy as np\n",
    "import os\n",
    "import sys\n",
    "import sklearn\n",
    "import matplotlib as mpl\n",
    "import matplotlib.pyplot as plt\n",
    "from sklearn.decomposition import PCA, KernelPCA, SparsePCA\n",
    "from sklearn.datasets import make_swiss_roll\n",
    "from sklearn.metrics import mean_squared_error\n",
    "import math"
   ]
  },
  {
   "cell_type": "code",
   "execution_count": 5,
   "id": "8b8cb6f4",
   "metadata": {},
   "outputs": [],
   "source": [
    "# NMF imports\n",
    "import numpy as np\n",
    "from sklearn.decomposition import NMF\n",
    "from sklearn.datasets import load_iris\n",
    "import matplotlib.pyplot as plt"
   ]
  },
  {
   "cell_type": "code",
   "execution_count": 6,
   "id": "267148c5",
   "metadata": {},
   "outputs": [
    {
     "name": "stderr",
     "output_type": "stream",
     "text": [
      "/var/folders/_1/ph90y1r548z0kmxwq40w_3y80000gn/T/ipykernel_6685/2071146880.py:12: MatplotlibDeprecationWarning: The seaborn styles shipped by Matplotlib are deprecated since 3.6, as they no longer correspond to the styles shipped by seaborn. However, they will remain available as 'seaborn-v0_8-<style>'. Alternatively, directly use the seaborn API instead.\n",
      "  plt.style.use('seaborn-white')\n"
     ]
    }
   ],
   "source": [
    "# more readable visuals \n",
    "large = 22; med = 16; small = 10\n",
    "params = {'axes.titlesize': large,\n",
    "          'legend.fontsize': med,\n",
    "          'figure.figsize': (16, 10),\n",
    "          'axes.labelsize': med,\n",
    "          'axes.titlesize': med,\n",
    "          'axes.linewidth': 2,\n",
    "          'xtick.labelsize': med,\n",
    "          'ytick.labelsize': med,\n",
    "          'figure.titlesize': large}\n",
    "plt.style.use('seaborn-white')\n",
    "plt.rcParams.update(params)\n",
    "%matplotlib inline"
   ]
  },
  {
   "cell_type": "markdown",
   "id": "26038b68",
   "metadata": {},
   "source": [
    "## Test sweep code"
   ]
  },
  {
   "cell_type": "code",
   "execution_count": null,
   "id": "4b7405e3",
   "metadata": {},
   "outputs": [],
   "source": [
    "def run_test_sweep(num_dataset_dims, X_train, X_test, is_faces, dataset_name):\n",
    "    for k in range(1,num_dataset_dims):\n",
    "        print(\"Number of components: k =\",k)\n",
    "        \n",
    "        # SPCA\n",
    "        best_spca_alpha, best_spca_alpha_err = spca_exp(X_train,k)\n",
    "        \n",
    "        # KPCA\n",
    "        best_kernel, best_kernel_err = kernel_exp(X_train,k)\n",
    "        \n",
    "        # Autoencoder\n",
    "        _, best_autoencoder_err = autoencoder_exp(X_train, X_test, k)\n",
    "        \n",
    "        # NMF\n",
    "        _, best_nmf_err = nmf_exp(X_train,X_test,k)\n",
    "        \n",
    "        # ==> Summary\n",
    "        print(\"- Summary: \",dataset_name,\"is_faces =\",is_faces,\"k =\",k)\n",
    "        print(\"-- Sparse PCA (alpha=\",best_spca_alpha,\"): err=\",best_spca_alpha_err)\n",
    "        print(\"-- Kernel PCA(\",best_kernel,\"): err=\",best_kernel_err)\n",
    "        print(\"-- Autoencoder: err=\",best_autoencoder_err)\n",
    "        print(\"-- NMF: err=\",best_nmf_err)"
   ]
  },
  {
   "cell_type": "markdown",
   "id": "0808daea",
   "metadata": {},
   "source": [
    "## Iris dataset: Sparse PCA, Kernel PCA, autoencoder, NMF (TODO); MSE, Frobenius (TODO)"
   ]
  },
  {
   "cell_type": "code",
   "execution_count": 19,
   "id": "df3f7481",
   "metadata": {},
   "outputs": [
    {
     "name": "stdout",
     "output_type": "stream",
     "text": [
      "The predictor variable shape:  (150, 4)\n",
      "The response variable shape:  (150,)\n",
      "The number of dataset dimensions:  4\n"
     ]
    }
   ],
   "source": [
    "# load Iris dataset\n",
    "iris = load_iris()\n",
    "X = iris.data # predictor\n",
    "y = iris.target #response\n",
    "num_dataset_dims=4\n",
    "print('The predictor variable shape: ', X.shape)\n",
    "print('The response variable shape: ', y.shape)\n",
    "print('The number of dataset dimensions: ',num_dataset_dims)\n",
    "\n",
    "# Standardize the data\n",
    "#scaler = MinMaxScaler()\n",
    "#X_scaled = scaler.fit_transform(X)\n",
    "\n",
    "X_train, X_test, y_train, y_test = train_test_split(X, y, stratify=y, random_state=0)"
   ]
  },
  {
   "cell_type": "code",
   "execution_count": null,
   "id": "0ad79490",
   "metadata": {},
   "outputs": [],
   "source": [
    "# Run test sweep\n",
    "run_test_sweep(num_dataset_dims, X_train, X_test, is_faces=False, )"
   ]
  },
  {
   "cell_type": "markdown",
   "id": "0db1ee3f",
   "metadata": {},
   "source": [
    "Training time:\n",
    "- scale X => X_scaled\n",
    "- Fit to X_scaled\n",
    "\n",
    "Run time:\n",
    "- scale X => X_scaled\n",
    "- Feed X_scaled to model\n",
    "- Get X_pre_image from model\n",
    "- Feed X_pre_image to inverse scaler => X_pre_image_unscaled\n",
    "- MSE(X, X_pre_image_unscaled)\n",
    "\n",
    "\n",
    "Dimensionality reduction & scalers are fit to trained data"
   ]
  },
  {
   "cell_type": "markdown",
   "id": "fe9722bb",
   "metadata": {},
   "source": [
    "## Iris + MSE summary"
   ]
  },
  {
   "cell_type": "code",
   "execution_count": null,
   "id": "3699c7e5",
   "metadata": {},
   "outputs": [],
   "source": [
    "print(\"Summary, Iris + MSE:\")\n",
    "print(\"- k=\",k)\n",
    "print(\"- Sparse PCA (alpha=\",best_spca_alpha,\"): err=\",best_spca_alpha_err)\n",
    "print(\"- Kernel PCA(\",best_kernel,\"): err=\",best_kernel_err)\n",
    "print(\"- Autoencoder: err=\",best_autoencoder_err)\n",
    "print(\"- NMF: err=\",best_nmf_err)"
   ]
  },
  {
   "cell_type": "markdown",
   "id": "16fffd77",
   "metadata": {},
   "source": [
    "## Swiss roll dataset: Sparse PCA, Kernel PCA, autoencoder"
   ]
  },
  {
   "cell_type": "code",
   "execution_count": null,
   "id": "da398f8b",
   "metadata": {},
   "outputs": [],
   "source": [
    "# Drawing on inspiration from https://docs.google.com/document/d/1lmaQowAhgf1OLbnSjl3X20j1idh-BdaQPZTrJslSJc0/edit \"Kernel PCA\" section\n",
    "\n",
    "X, t = make_swiss_roll(n_samples=1000, noise=0.2, random_state=42)\n",
    "scaler = MinMaxScaler()\n",
    "X_scaled = scaler.fit_transform(X)\n",
    "\n",
    "axes = [-11.5, 14, -2, 23, -12, 15]\n",
    "\n",
    "fig = plt.figure(figsize=(6, 5))\n",
    "ax = fig.add_subplot(111, projection='3d')\n",
    "\n",
    "ax.scatter(X[:, 0], X[:, 1], X[:, 2], c=t, cmap=plt.cm.hot)\n",
    "ax.view_init(10, -70)\n",
    "ax.set_xlabel(\"$x_1$\", fontsize=18)\n",
    "ax.set_ylabel(\"$x_2$\", fontsize=18)\n",
    "ax.set_zlabel(\"$x_3$\", fontsize=18)\n",
    "ax.set_xlim(axes[0:2])\n",
    "ax.set_ylim(axes[2:4])\n",
    "ax.set_zlim(axes[4:6])\n",
    "\n",
    "plt.show()"
   ]
  },
  {
   "cell_type": "markdown",
   "id": "a83de4b1",
   "metadata": {},
   "source": [
    "### Sparse PCA + Swiss roll + MSE"
   ]
  },
  {
   "cell_type": "code",
   "execution_count": null,
   "id": "eab1b837",
   "metadata": {},
   "outputs": [],
   "source": [
    "best_spca_alpha, best_spca_alpha_err = spca_exp(X_scaled,k)"
   ]
  },
  {
   "cell_type": "markdown",
   "id": "dc1f6245",
   "metadata": {},
   "source": [
    "### Kernel PCA + Swiss roll + MSE"
   ]
  },
  {
   "cell_type": "code",
   "execution_count": null,
   "id": "804c07de",
   "metadata": {},
   "outputs": [],
   "source": [
    "best_kernel, best_kernel_err=kernel_exp(X_scaled,k)"
   ]
  },
  {
   "cell_type": "markdown",
   "id": "dc733eb5",
   "metadata": {},
   "source": [
    "### Autoencoder + Swiss roll + MSE"
   ]
  },
  {
   "cell_type": "code",
   "execution_count": null,
   "id": "530eb355",
   "metadata": {},
   "outputs": [],
   "source": [
    "#_,best_autoencoder_err = autoencoder_exp(X, k)"
   ]
  },
  {
   "cell_type": "code",
   "execution_count": null,
   "id": "720b5a7f",
   "metadata": {},
   "outputs": [],
   "source": [
    "_,best_autoencoder_err = autoencoder_exp(X_scaled, k)"
   ]
  },
  {
   "cell_type": "markdown",
   "id": "dfac6f23",
   "metadata": {},
   "source": [
    "### NMF + Swiss roll + MSE"
   ]
  },
  {
   "cell_type": "code",
   "execution_count": null,
   "id": "e9e71a54",
   "metadata": {},
   "outputs": [],
   "source": [
    "# Note: using unscaled dataset\n",
    "_, best_nmf_err = nmf_exp(X_scaled,k)"
   ]
  },
  {
   "cell_type": "markdown",
   "id": "f3446525",
   "metadata": {},
   "source": [
    "## Swiss roll + MSE summary"
   ]
  },
  {
   "cell_type": "code",
   "execution_count": null,
   "id": "d5fe217d",
   "metadata": {},
   "outputs": [],
   "source": [
    "print(\"Summary, Swiss roll + MSE:\")\n",
    "print(\"- k=\",k)\n",
    "print(\"- Sparse PCA (alpha=\",best_spca_alpha,\"): err=\",best_spca_alpha_err)\n",
    "print(\"- Kernel PCA(\",best_kernel,\"): err=\",best_kernel_err)\n",
    "print(\"- Autoencoder: err=\",best_autoencoder_err)\n",
    "print(\"- NMF: err=\",best_nmf_err)"
   ]
  },
  {
   "cell_type": "code",
   "execution_count": null,
   "id": "65fd7621",
   "metadata": {},
   "outputs": [],
   "source": []
  }
 ],
 "metadata": {
  "kernelspec": {
   "display_name": "Python 3 (ipykernel)",
   "language": "python",
   "name": "python3"
  },
  "language_info": {
   "codemirror_mode": {
    "name": "ipython",
    "version": 3
   },
   "file_extension": ".py",
   "mimetype": "text/x-python",
   "name": "python",
   "nbconvert_exporter": "python",
   "pygments_lexer": "ipython3",
   "version": "3.10.10"
  }
 },
 "nbformat": 4,
 "nbformat_minor": 5
}
