{
 "cells": [
  {
   "cell_type": "markdown",
   "id": "9ccffa5a",
   "metadata": {},
   "source": [
    "# 18.065 project: comparison result"
   ]
  },
  {
   "cell_type": "code",
   "execution_count": 1,
   "id": "a58361c7",
   "metadata": {},
   "outputs": [],
   "source": [
    "#import sys\n",
    "#!{sys.executable} -m pip install tf-nightly"
   ]
  },
  {
   "cell_type": "code",
   "execution_count": 20,
   "id": "df5a3bd3",
   "metadata": {},
   "outputs": [],
   "source": [
    "import sklearn\n",
    "import numpy as np\n",
    "from sklearn.datasets import load_iris,make_swiss_roll\n",
    "from  sklearn.model_selection import train_test_split\n",
    "# Custom train/test wrappers for sklearn models\n",
    "from sklearn_wrappers import *"
   ]
  },
  {
   "cell_type": "code",
   "execution_count": 21,
   "id": "267148c5",
   "metadata": {},
   "outputs": [],
   "source": [
    "# more readable visuals \n",
    "#large = 22; med = 16; small = 10\n",
    "#params = {'axes.titlesize': large,\n",
    "#          'legend.fontsize': med,\n",
    "#          'figure.figsize': (16, 10),\n",
    "#          'axes.labelsize': med,\n",
    "#          'axes.titlesize': med,\n",
    "#          'axes.linewidth': 2,\n",
    "#          'xtick.labelsize': med,\n",
    "#          'ytick.labelsize': med,\n",
    "#          'figure.titlesize': large}\n",
    "#plt.style.use('seaborn-white')\n",
    "#plt.rcParams.update(params)\n",
    "#%matplotlib inline"
   ]
  },
  {
   "cell_type": "markdown",
   "id": "2cdf7fe7",
   "metadata": {},
   "source": [
    "## Test sweep code"
   ]
  },
  {
   "cell_type": "code",
   "execution_count": null,
   "id": "6cbe59be",
   "metadata": {},
   "outputs": [],
   "source": [
    "def run_test_sweep(num_dataset_dims, X_train, X_test, is_faces, dataset_name):\n",
    "    for k in range(1,num_dataset_dims):\n",
    "        print(\"Number of components: k =\",k)\n",
    "        \n",
    "        # SPCA\n",
    "        best_spca_alpha, best_spca_alpha_err = spca_exp(X_train,k)\n",
    "        \n",
    "        # KPCA\n",
    "        best_kernel, best_kernel_err = kernel_exp(X_train,k)\n",
    "        \n",
    "        # Autoencoder\n",
    "        _, best_autoencoder_err = autoencoder_exp(X_train, X_test, k)\n",
    "        \n",
    "        # NMF\n",
    "        _, best_nmf_err = nmf_exp(X_train,X_test,k)\n",
    "        \n",
    "        # ==> Summary\n",
    "        print(\"- MSE loss summary: \",dataset_name,\"is_faces =\",is_faces,\"k =\",k)\n",
    "        print(\"-- Sparse PCA (alpha=\",best_spca_alpha,\"): err=\",best_spca_alpha_err)\n",
    "        print(\"-- Kernel PCA(\",best_kernel,\"): err=\",best_kernel_err)\n",
    "        print(\"-- Autoencoder: err=\",best_autoencoder_err)\n",
    "        print(\"-- NMF: err=\",best_nmf_err)"
   ]
  },
  {
   "cell_type": "markdown",
   "id": "0808daea",
   "metadata": {},
   "source": [
    "## Iris dataset: Sparse PCA, Kernel PCA, autoencoder, NMF (TODO); MSE, Frobenius (TODO)"
   ]
  },
  {
   "cell_type": "code",
   "execution_count": 19,
   "id": "df3f7481",
   "metadata": {},
   "outputs": [
    {
     "name": "stdout",
     "output_type": "stream",
     "text": [
      "The predictor variable shape:  (150, 4)\n",
      "The response variable shape:  (150,)\n",
      "The number of dataset dimensions:  4\n"
     ]
    }
   ],
   "source": [
    "# load Iris dataset\n",
    "iris = load_iris()\n",
    "X = iris.data # predictor\n",
    "y = iris.target #response\n",
    "num_dataset_dims=4\n",
    "print('The predictor variable shape: ', X.shape)\n",
    "print('The response variable shape: ', y.shape)\n",
    "print('The number of dataset dimensions: ',num_dataset_dims)\n",
    "\n",
    "# Standardize the data\n",
    "#scaler = MinMaxScaler()\n",
    "#X_scaled = scaler.fit_transform(X)\n",
    "\n",
    "X_train, X_test, y_train, y_test = train_test_split(X, y, stratify=y, random_state=0)"
   ]
  },
  {
   "cell_type": "code",
   "execution_count": null,
   "id": "5f84ce1a",
   "metadata": {},
   "outputs": [],
   "source": [
    "# Run Iris test sweep\n",
    "run_test_sweep(num_dataset_dims, X_train, X_test, is_faces=False)"
   ]
  },
  {
   "cell_type": "markdown",
   "id": "0db1ee3f",
   "metadata": {},
   "source": [
    "Training time:\n",
    "- scale X => X_scaled\n",
    "- Fit to X_scaled\n",
    "\n",
    "Run time:\n",
    "- scale X => X_scaled\n",
    "- Feed X_scaled to model\n",
    "- Get X_pre_image from model\n",
    "- Feed X_pre_image to inverse scaler => X_pre_image_unscaled\n",
    "- MSE(X, X_pre_image_unscaled)\n",
    "\n",
    "\n",
    "Dimensionality reduction & scalers are fit to trained data"
   ]
  },
  {
   "cell_type": "markdown",
   "id": "16fffd77",
   "metadata": {},
   "source": [
    "## Swiss roll dataset: Sparse PCA, Kernel PCA, autoencoder"
   ]
  },
  {
   "cell_type": "code",
   "execution_count": null,
   "id": "da398f8b",
   "metadata": {},
   "outputs": [],
   "source": [
    "# Drawing on inspiration from https://docs.google.com/document/d/1lmaQowAhgf1OLbnSjl3X20j1idh-BdaQPZTrJslSJc0/edit \"Kernel PCA\" section\n",
    "\n",
    "X, t = make_swiss_roll(n_samples=1000, noise=0.2, random_state=42)\n",
    "num_dataset_dims=3\n",
    "scaler = MinMaxScaler()\n",
    "X_scaled = scaler.fit_transform(X)\n",
    "\n",
    "axes = [-11.5, 14, -2, 23, -12, 15]\n",
    "\n",
    "fig = plt.figure(figsize=(6, 5))\n",
    "ax = fig.add_subplot(111, projection='3d')\n",
    "\n",
    "ax.scatter(X[:, 0], X[:, 1], X[:, 2], c=t, cmap=plt.cm.hot)\n",
    "ax.view_init(10, -70)\n",
    "ax.set_xlabel(\"$x_1$\", fontsize=18)\n",
    "ax.set_ylabel(\"$x_2$\", fontsize=18)\n",
    "ax.set_zlabel(\"$x_3$\", fontsize=18)\n",
    "ax.set_xlim(axes[0:2])\n",
    "ax.set_ylim(axes[2:4])\n",
    "ax.set_zlim(axes[4:6])\n",
    "\n",
    "plt.show()\n",
    "\n",
    "X_train, X_test, y_train, y_test = train_test_split(X, y, stratify=y, random_state=0)"
   ]
  },
  {
   "cell_type": "code",
   "execution_count": null,
   "id": "b44b6c8d",
   "metadata": {},
   "outputs": [],
   "source": [
    "# Run Swiss roll test sweep\n",
    "run_test_sweep(num_dataset_dims, X_train, X_test, is_faces=False)"
   ]
  }
 ],
 "metadata": {
  "kernelspec": {
   "display_name": "Python 3 (ipykernel)",
   "language": "python",
   "name": "python3"
  },
  "language_info": {
   "codemirror_mode": {
    "name": "ipython",
    "version": 3
   },
   "file_extension": ".py",
   "mimetype": "text/x-python",
   "name": "python",
   "nbconvert_exporter": "python",
   "pygments_lexer": "ipython3",
   "version": "3.10.10"
  }
 },
 "nbformat": 4,
 "nbformat_minor": 5
}
