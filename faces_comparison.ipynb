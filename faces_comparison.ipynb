{
  "cells": [
    {
      "cell_type": "code",
      "execution_count": 31,
      "metadata": {
        "id": "oj7mYqtgYmQL"
      },
      "outputs": [],
      "source": [
        "from sklearn.datasets import fetch_lfw_people\n",
        "from sklearn.decomposition import PCA, SparsePCA, KernelPCA\n",
        "import matplotlib.pyplot as plt\n",
        "from sklearn.preprocessing import MinMaxScaler\n",
        "from sklearn.metrics import mean_squared_error\n",
        "import math"
      ]
    },
    {
      "cell_type": "code",
      "execution_count": 32,
      "metadata": {
        "id": "5KohvDocYmQM"
      },
      "outputs": [],
      "source": [
        "# Takes 6 minutes to load the data if this is your first time\n",
        "lfw_people = fetch_lfw_people(min_faces_per_person=100)\n",
        "n_samples, h, w = lfw_people.images.shape\n",
        "X = lfw_people.data\n",
        "n_features = X.shape[1]\n",
        "y = lfw_people.target\n",
        "target_names = lfw_people.target_names\n",
        "n_classes = target_names.shape[0]\n",
        "scaler = MinMaxScaler()\n",
        "X_scaled = scaler.fit_transform(X)"
      ]
    },
    {
      "cell_type": "code",
      "execution_count": 33,
      "metadata": {
        "id": "fa-fJ8vGYmQN"
      },
      "outputs": [],
      "source": [
        "k=1\n",
        "pca = PCA(n_components=k, svd_solver='full').fit(X_scaled)\n",
        "eigenfaces_pca = pca.components_.reshape((k, h, w))\n",
        "spca = SparsePCA(n_components=k, alpha=0.1, ridge_alpha=0).fit(X_scaled)\n",
        "eigenfaces_spca = spca.components_.reshape((k, h, w))"
      ]
    },
    {
      "cell_type": "code",
      "source": [
        "def spca_exp(X_scaled,k):\n",
        "    alpha_vals=[0.001, 0.002, 0.005, 0.01, 0.02, 0.05, 0.10, 0.20, 0.50, 1.0, 2.0, 5.0]\n",
        "    ridge_alpha=0.0\n",
        "\n",
        "    best_spca_alpha=0.0\n",
        "    best_spca_alpha_err=math.inf\n",
        "    for idx in range(len(alpha_vals)):\n",
        "        alpha=alpha_vals[idx]\n",
        "        spca = SparsePCA(n_components=k, ridge_alpha=ridge_alpha, alpha=alpha).fit(X_scaled)\n",
        "        X_reduced = spca.transform(X_scaled)\n",
        "        X_recon = spca.inverse_transform(X_reduced)\n",
        "        spca_err=mean_squared_error(X_scaled, X_recon)\n",
        "        print(\"alpha=\",alpha,\"err=\",spca_err)\n",
        "        if spca_err < best_spca_alpha_err:\n",
        "            best_spca_alpha_err=spca_err\n",
        "            best_spca_alpha=alpha\n",
        "            best_eigenfaces_spca = spca.components_.reshape((k,h,w))\n",
        "    \n",
        "    print(\"\\n\\nBest SPCA:\")\n",
        "    print(\"- alpha:\",best_spca_alpha)\n",
        "    print(\"- err:\",best_spca_alpha_err)\n",
        "    \n",
        "    return best_spca_alpha, best_spca_alpha_err, best_eigenfaces_spca"
      ],
      "metadata": {
        "id": "YVTgWRSgdOx2"
      },
      "execution_count": 36,
      "outputs": []
    },
    {
      "cell_type": "code",
      "source": [
        "best_spca_alpha, best_spca_alpha_err, best_eigenfaces_spca = spca_exp(X_scaled,k)"
      ],
      "metadata": {
        "colab": {
          "base_uri": "https://localhost:8080/"
        },
        "id": "76jZMqDKTjNR",
        "outputId": "3ad61cd6-f45f-479d-82e2-200d2f2ad98e"
      },
      "execution_count": 37,
      "outputs": [
        {
          "output_type": "stream",
          "name": "stdout",
          "text": [
            "alpha= 0.001 err= 0.022270383\n",
            "alpha= 0.002 err= 0.022270383\n",
            "alpha= 0.005 err= 0.022270385\n",
            "alpha= 0.01 err= 0.02227039\n",
            "alpha= 0.02 err= 0.022270408\n",
            "alpha= 0.05 err= 0.02227057\n",
            "alpha= 0.1 err= 0.02227117\n",
            "alpha= 0.2 err= 0.022273978\n",
            "alpha= 0.5 err= 0.02230394\n",
            "alpha= 1.0 err= 0.022681747\n",
            "alpha= 2.0 err= 0.023934437\n",
            "alpha= 5.0 err= 0.028316248\n",
            "\n",
            "\n",
            "Best SPCA:\n",
            "- alpha: 0.001\n",
            "- err: 0.022270383\n"
          ]
        }
      ]
    },
    {
      "cell_type": "code",
      "source": [
        "def kernel_exp(X_scaled,k):\n",
        "\n",
        "    lin_pca = KernelPCA(n_components = k, kernel=\"linear\", fit_inverse_transform=True)\n",
        "    rbf_pca = KernelPCA(n_components = k, kernel=\"rbf\", gamma=0.0433, fit_inverse_transform=True)\n",
        "    sig_pca = KernelPCA(n_components = k, kernel=\"sigmoid\", gamma=0.001, coef0=1, fit_inverse_transform=True)\n",
        "\n",
        "    kernel_options=((131, lin_pca, \"Linear kernel\"), (132, rbf_pca, \"RBF kernel, $\\gamma=0.04$\"), (133, sig_pca, \"Sigmoid kernel, $\\gamma=10^{-3}, r=1$\"))\n",
        "\n",
        "    best_kernel=\"\"\n",
        "    best_kernel_err=math.inf\n",
        "    for subplot, pca, title in kernel_options:\n",
        "        X_reduced = pca.fit_transform(X_scaled)\n",
        "        X_recon = pca.inverse_transform(X_reduced)\n",
        "        err=mean_squared_error(X_scaled, X_recon)\n",
        "        print(\"Kernel PCA (\",title,\") MSE reconstruction loss:\",err)\n",
        "        if err < best_kernel_err:\n",
        "            best_kernel=title\n",
        "            best_kernel_err=err\n",
        "            best_eigenfaces_kernel = pca.eigenvectors_.reshape((k,h,w))\n",
        "            print(\"- New best kernel\")\n",
        "\n",
        "    print(\"\\n\\nBest MSE reconstruction error:\",best_kernel_err)\n",
        "    print(\"- Kernel:\",best_kernel)\n",
        "    \n",
        "    return best_kernel, best_kernel_err, best_eigenfaces_kernel"
      ],
      "metadata": {
        "id": "UvBRBUGDVccH"
      },
      "execution_count": 38,
      "outputs": []
    },
    {
      "cell_type": "code",
      "source": [
        "best_kernel, best_kernel_err, best_eigenfaces_kernel = kernel_exp(X_scaled,k)"
      ],
      "metadata": {
        "colab": {
          "base_uri": "https://localhost:8080/",
          "height": 316
        },
        "id": "YKttZsRzbqL8",
        "outputId": "9b7f4a2a-64ca-4912-9823-4d7cdc580b30"
      },
      "execution_count": 39,
      "outputs": [
        {
          "output_type": "stream",
          "name": "stdout",
          "text": [
            "Kernel PCA ( Linear kernel ) MSE reconstruction loss: 0.29385805\n"
          ]
        },
        {
          "output_type": "error",
          "ename": "ValueError",
          "evalue": "ignored",
          "traceback": [
            "\u001b[0;31m---------------------------------------------------------------------------\u001b[0m",
            "\u001b[0;31mValueError\u001b[0m                                Traceback (most recent call last)",
            "\u001b[0;32m<ipython-input-39-ed699bb87707>\u001b[0m in \u001b[0;36m<cell line: 1>\u001b[0;34m()\u001b[0m\n\u001b[0;32m----> 1\u001b[0;31m \u001b[0mbest_kernel\u001b[0m\u001b[0;34m,\u001b[0m \u001b[0mbest_kernel_err\u001b[0m\u001b[0;34m,\u001b[0m \u001b[0mbest_eigenfaces_kernel\u001b[0m \u001b[0;34m=\u001b[0m \u001b[0mkernel_exp\u001b[0m\u001b[0;34m(\u001b[0m\u001b[0mX_scaled\u001b[0m\u001b[0;34m,\u001b[0m\u001b[0mk\u001b[0m\u001b[0;34m)\u001b[0m\u001b[0;34m\u001b[0m\u001b[0;34m\u001b[0m\u001b[0m\n\u001b[0m",
            "\u001b[0;32m<ipython-input-38-49dc5f8cbdc2>\u001b[0m in \u001b[0;36mkernel_exp\u001b[0;34m(X_scaled, k)\u001b[0m\n\u001b[1;32m     17\u001b[0m             \u001b[0mbest_kernel\u001b[0m\u001b[0;34m=\u001b[0m\u001b[0mtitle\u001b[0m\u001b[0;34m\u001b[0m\u001b[0;34m\u001b[0m\u001b[0m\n\u001b[1;32m     18\u001b[0m             \u001b[0mbest_kernel_err\u001b[0m\u001b[0;34m=\u001b[0m\u001b[0merr\u001b[0m\u001b[0;34m\u001b[0m\u001b[0;34m\u001b[0m\u001b[0m\n\u001b[0;32m---> 19\u001b[0;31m             \u001b[0mbest_eigenfaces_kernel\u001b[0m \u001b[0;34m=\u001b[0m \u001b[0mpca\u001b[0m\u001b[0;34m.\u001b[0m\u001b[0meigenvectors_\u001b[0m\u001b[0;34m.\u001b[0m\u001b[0mreshape\u001b[0m\u001b[0;34m(\u001b[0m\u001b[0;34m(\u001b[0m\u001b[0mk\u001b[0m\u001b[0;34m,\u001b[0m\u001b[0mh\u001b[0m\u001b[0;34m,\u001b[0m\u001b[0mw\u001b[0m\u001b[0;34m)\u001b[0m\u001b[0;34m)\u001b[0m\u001b[0;34m\u001b[0m\u001b[0;34m\u001b[0m\u001b[0m\n\u001b[0m\u001b[1;32m     20\u001b[0m             \u001b[0mprint\u001b[0m\u001b[0;34m(\u001b[0m\u001b[0;34m\"- New best kernel\"\u001b[0m\u001b[0;34m)\u001b[0m\u001b[0;34m\u001b[0m\u001b[0;34m\u001b[0m\u001b[0m\n\u001b[1;32m     21\u001b[0m \u001b[0;34m\u001b[0m\u001b[0m\n",
            "\u001b[0;31mValueError\u001b[0m: cannot reshape array of size 1140 into shape (1,62,47)"
          ]
        }
      ]
    },
    {
      "cell_type": "code",
      "execution_count": 40,
      "metadata": {
        "id": "sysXiEQvYmQO"
      },
      "outputs": [],
      "source": [
        "def plot_gallery(images, titles, h, w, n_row=1, n_col=1):\n",
        "    \"\"\"Helper function to plot a gallery of portraits\"\"\"\n",
        "    plt.figure(figsize=(1.8 * n_col, 2.4 * n_row))\n",
        "    plt.subplots_adjust(bottom=0, left=.01, right=.99, top=.90, hspace=.35)\n",
        "    for i in range(1):\n",
        "        plt.subplot(n_row, n_col, i + 1)\n",
        "        plt.imshow(images[i].reshape((h, w)), cmap=plt.cm.gray)\n",
        "        plt.title(titles[i], size=12)\n",
        "        plt.xticks(())\n",
        "        plt.yticks(())"
      ]
    },
    {
      "cell_type": "code",
      "execution_count": 42,
      "metadata": {
        "colab": {
          "base_uri": "https://localhost:8080/",
          "height": 275
        },
        "id": "fO7P0grTYmQO",
        "outputId": "3ffe0f6a-f38f-49c2-9f03-0a7f0f72b1cb"
      },
      "outputs": [
        {
          "output_type": "display_data",
          "data": {
            "text/plain": [
              "<Figure size 180x240 with 1 Axes>"
            ],
            "image/png": "[encoded data removed]"
          },
          "metadata": {}
        }
      ],
      "source": [
        "eigenface_titles = [f\"eigenface {i}\" for i in range(best_eigenfaces_spca.shape[0])]\n",
        "plot_gallery(best_eigenfaces_spca, eigenface_titles, h, w)\n",
        "\n",
        "plt.show()"
      ]
    },
    {
      "cell_type": "code",
      "source": [
        "eigenface_titles = [f\"eigenface {i}\" for i in range(best_eigenfaces_spca[0])]\n",
        "plot_gallery(best_eigenfaces_kernel, eigenface_titles, h, w)\n",
        "\n",
        "plt.show()\n"
      ],
      "metadata": {
        "id": "BZzGOu4uft0W"
      },
      "execution_count": null,
      "outputs": []
    }
  ],
  "metadata": {
    "kernelspec": {
      "display_name": "Python 3",
      "language": "python",
      "name": "python3"
    },
    "language_info": {
      "codemirror_mode": {
        "name": "ipython",
        "version": 3
      },
      "file_extension": ".py",
      "mimetype": "text/x-python",
      "name": "python",
      "nbconvert_exporter": "python",
      "pygments_lexer": "ipython3",
      "version": "3.11.1"
    },
    "orig_nbformat": 4,
    "colab": {
      "provenance": [],
      "gpuType": "T4"
    },
    "accelerator": "GPU",
    "gpuClass": "standard"
  },
  "nbformat": 4,
  "nbformat_minor": 0
}